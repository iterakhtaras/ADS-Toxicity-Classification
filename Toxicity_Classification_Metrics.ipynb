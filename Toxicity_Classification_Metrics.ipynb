{
  "nbformat": 4,
  "nbformat_minor": 0,
  "metadata": {
    "colab": {
      "name": "RDS_Metrics.ipynb",
      "provenance": []
    },
    "kernelspec": {
      "name": "python3",
      "display_name": "Python 3"
    },
    "language_info": {
      "name": "python"
    }
  },
  "cells": [
    {
      "cell_type": "markdown",
      "source": [
        "# FPR, FNR, AND ACCURACY"
      ],
      "metadata": {
        "id": "G3UZyNuQYOwa"
      }
    },
    {
      "cell_type": "markdown",
      "source": [
        "*Import Libraries*"
      ],
      "metadata": {
        "id": "snLNOOL9YWvK"
      }
    },
    {
      "cell_type": "code",
      "execution_count": null,
      "metadata": {
        "colab": {
          "base_uri": "https://localhost:8080/"
        },
        "id": "joDdkKafQcfF",
        "outputId": "18295e9e-265a-406f-9de8-ead757aae6a6"
      },
      "outputs": [
        {
          "output_type": "stream",
          "name": "stdout",
          "text": [
            "Drive already mounted at /content/drive; to attempt to forcibly remount, call drive.mount(\"/content/drive\", force_remount=True).\n"
          ]
        }
      ],
      "source": [
        "import pandas as pd\n",
        "import numpy as np\n",
        "import os\n",
        "import matplotlib.pyplot as plt\n",
        "from sklearn.feature_extraction.text import TfidfVectorizer\n",
        "from sklearn import metrics\n",
        "from sklearn.metrics import plot_confusion_matrix\n",
        "import re\n",
        "import string\n",
        "import seaborn as sns\n",
        "\n",
        "from google.colab import drive\n",
        "drive.mount('/content/drive')"
      ]
    },
    {
      "cell_type": "markdown",
      "source": [
        "*Load Data*"
      ],
      "metadata": {
        "id": "EUUfjl6bYaua"
      }
    },
    {
      "cell_type": "code",
      "source": [
        "test = pd.read_csv('/content/drive/MyDrive/RDS Final Project/jigsaw-unintended-bias-in-toxicity-classification (1)/test_private_expanded.csv')\n",
        "train = pd.read_csv('/content/drive/MyDrive/RDS Final Project/jigsaw-unintended-bias-in-toxicity-classification (1)/train.csv')\n",
        "pred = pd.read_csv('/content/drive/MyDrive/RDS Final Project/jigsaw-unintended-bias-in-toxicity-classification (1)/submission.csv')\n"
      ],
      "metadata": {
        "id": "NXJMSntWQgZq"
      },
      "execution_count": null,
      "outputs": []
    },
    {
      "cell_type": "markdown",
      "source": [
        "Apply same cleaning and preprocessing methods"
      ],
      "metadata": {
        "id": "_nGqrNhwSrxk"
      }
    },
    {
      "cell_type": "code",
      "source": [
        "id_test = test.columns[21:45]\n",
        "#set initial boolean array\n",
        "label = pd.Series([True for i in range(len(test))])\n",
        "\n",
        "# for every identity, sees which lines are valid,\n",
        "# save results in the boolean array 'label'\n",
        "for i in id_test:\n",
        "  label = label & (pd.notnull(test[i]))\n",
        "\n",
        "test_clean = test[label]"
      ],
      "metadata": {
        "id": "H0CuEHjZSrPq"
      },
      "execution_count": null,
      "outputs": []
    },
    {
      "cell_type": "code",
      "source": [
        "text = re.compile(f'([{string.punctuation}“”¨«»®´·º½¾¿¡§£₤‘’])')\n",
        "def tokenize(s): return text.sub(r' \\1 ', s).split()\n",
        "length = train.shape[0]\n",
        "Vectorize = TfidfVectorizer(ngram_range=(1,2), tokenizer=tokenize,\n",
        "               min_df=3, max_df=0.9, strip_accents='unicode', use_idf=1,\n",
        "               smooth_idf=1, sublinear_tf=1 )"
      ],
      "metadata": {
        "id": "SMy3L9GwS7MB"
      },
      "execution_count": null,
      "outputs": []
    },
    {
      "cell_type": "code",
      "source": [
        "ads_test = Vectorize.fit_transform(test_clean[\"comment_text\"])"
      ],
      "metadata": {
        "id": "1OXUfebcS-BJ"
      },
      "execution_count": null,
      "outputs": []
    },
    {
      "cell_type": "code",
      "source": [
        "ads_test"
      ],
      "metadata": {
        "colab": {
          "base_uri": "https://localhost:8080/"
        },
        "id": "AHsA8-eyUB-w",
        "outputId": "ca6a5dae-459d-4357-886d-625706c919a4"
      },
      "execution_count": null,
      "outputs": [
        {
          "output_type": "execute_result",
          "data": {
            "text/plain": [
              "<21577x92730 sparse matrix of type '<class 'numpy.float64'>'\n",
              "\twith 2041601 stored elements in Compressed Sparse Row format>"
            ]
          },
          "metadata": {},
          "execution_count": 97
        }
      ]
    },
    {
      "cell_type": "code",
      "source": [
        "ads_test = pd.DataFrame(ads_test)\n",
        "ads_test.rename(columns = {0: \"comment_text_preprocessed\"}, \n",
        "          inplace = True)\n",
        "ads_test.head()"
      ],
      "metadata": {
        "colab": {
          "base_uri": "https://localhost:8080/",
          "height": 206
        },
        "id": "FcALRsx7TJI4",
        "outputId": "02f10047-81be-439d-e7c0-37ba2bfa4af4"
      },
      "execution_count": null,
      "outputs": [
        {
          "output_type": "execute_result",
          "data": {
            "text/plain": [
              "                           comment_text_preprocessed\n",
              "0    (0, 51752)\\t0.29174013946685257\\n  (0, 58930...\n",
              "1    (0, 4197)\\t0.11110084003103093\\n  (0, 41610)...\n",
              "2    (0, 54019)\\t0.34424830845672777\\n  (0, 86895...\n",
              "3    (0, 17206)\\t0.14755356550105467\\n  (0, 70246...\n",
              "4    (0, 85776)\\t0.1017023804088463\\n  (0, 44453)..."
            ],
            "text/html": [
              "\n",
              "  <div id=\"df-02d8e2be-28c2-48da-ac89-e919e11396e1\">\n",
              "    <div class=\"colab-df-container\">\n",
              "      <div>\n",
              "<style scoped>\n",
              "    .dataframe tbody tr th:only-of-type {\n",
              "        vertical-align: middle;\n",
              "    }\n",
              "\n",
              "    .dataframe tbody tr th {\n",
              "        vertical-align: top;\n",
              "    }\n",
              "\n",
              "    .dataframe thead th {\n",
              "        text-align: right;\n",
              "    }\n",
              "</style>\n",
              "<table border=\"1\" class=\"dataframe\">\n",
              "  <thead>\n",
              "    <tr style=\"text-align: right;\">\n",
              "      <th></th>\n",
              "      <th>comment_text_preprocessed</th>\n",
              "    </tr>\n",
              "  </thead>\n",
              "  <tbody>\n",
              "    <tr>\n",
              "      <th>0</th>\n",
              "      <td>(0, 51752)\\t0.29174013946685257\\n  (0, 58930...</td>\n",
              "    </tr>\n",
              "    <tr>\n",
              "      <th>1</th>\n",
              "      <td>(0, 4197)\\t0.11110084003103093\\n  (0, 41610)...</td>\n",
              "    </tr>\n",
              "    <tr>\n",
              "      <th>2</th>\n",
              "      <td>(0, 54019)\\t0.34424830845672777\\n  (0, 86895...</td>\n",
              "    </tr>\n",
              "    <tr>\n",
              "      <th>3</th>\n",
              "      <td>(0, 17206)\\t0.14755356550105467\\n  (0, 70246...</td>\n",
              "    </tr>\n",
              "    <tr>\n",
              "      <th>4</th>\n",
              "      <td>(0, 85776)\\t0.1017023804088463\\n  (0, 44453)...</td>\n",
              "    </tr>\n",
              "  </tbody>\n",
              "</table>\n",
              "</div>\n",
              "      <button class=\"colab-df-convert\" onclick=\"convertToInteractive('df-02d8e2be-28c2-48da-ac89-e919e11396e1')\"\n",
              "              title=\"Convert this dataframe to an interactive table.\"\n",
              "              style=\"display:none;\">\n",
              "        \n",
              "  <svg xmlns=\"http://www.w3.org/2000/svg\" height=\"24px\"viewBox=\"0 0 24 24\"\n",
              "       width=\"24px\">\n",
              "    <path d=\"M0 0h24v24H0V0z\" fill=\"none\"/>\n",
              "    <path d=\"M18.56 5.44l.94 2.06.94-2.06 2.06-.94-2.06-.94-.94-2.06-.94 2.06-2.06.94zm-11 1L8.5 8.5l.94-2.06 2.06-.94-2.06-.94L8.5 2.5l-.94 2.06-2.06.94zm10 10l.94 2.06.94-2.06 2.06-.94-2.06-.94-.94-2.06-.94 2.06-2.06.94z\"/><path d=\"M17.41 7.96l-1.37-1.37c-.4-.4-.92-.59-1.43-.59-.52 0-1.04.2-1.43.59L10.3 9.45l-7.72 7.72c-.78.78-.78 2.05 0 2.83L4 21.41c.39.39.9.59 1.41.59.51 0 1.02-.2 1.41-.59l7.78-7.78 2.81-2.81c.8-.78.8-2.07 0-2.86zM5.41 20L4 18.59l7.72-7.72 1.47 1.35L5.41 20z\"/>\n",
              "  </svg>\n",
              "      </button>\n",
              "      \n",
              "  <style>\n",
              "    .colab-df-container {\n",
              "      display:flex;\n",
              "      flex-wrap:wrap;\n",
              "      gap: 12px;\n",
              "    }\n",
              "\n",
              "    .colab-df-convert {\n",
              "      background-color: #E8F0FE;\n",
              "      border: none;\n",
              "      border-radius: 50%;\n",
              "      cursor: pointer;\n",
              "      display: none;\n",
              "      fill: #1967D2;\n",
              "      height: 32px;\n",
              "      padding: 0 0 0 0;\n",
              "      width: 32px;\n",
              "    }\n",
              "\n",
              "    .colab-df-convert:hover {\n",
              "      background-color: #E2EBFA;\n",
              "      box-shadow: 0px 1px 2px rgba(60, 64, 67, 0.3), 0px 1px 3px 1px rgba(60, 64, 67, 0.15);\n",
              "      fill: #174EA6;\n",
              "    }\n",
              "\n",
              "    [theme=dark] .colab-df-convert {\n",
              "      background-color: #3B4455;\n",
              "      fill: #D2E3FC;\n",
              "    }\n",
              "\n",
              "    [theme=dark] .colab-df-convert:hover {\n",
              "      background-color: #434B5C;\n",
              "      box-shadow: 0px 1px 3px 1px rgba(0, 0, 0, 0.15);\n",
              "      filter: drop-shadow(0px 1px 2px rgba(0, 0, 0, 0.3));\n",
              "      fill: #FFFFFF;\n",
              "    }\n",
              "  </style>\n",
              "\n",
              "      <script>\n",
              "        const buttonEl =\n",
              "          document.querySelector('#df-02d8e2be-28c2-48da-ac89-e919e11396e1 button.colab-df-convert');\n",
              "        buttonEl.style.display =\n",
              "          google.colab.kernel.accessAllowed ? 'block' : 'none';\n",
              "\n",
              "        async function convertToInteractive(key) {\n",
              "          const element = document.querySelector('#df-02d8e2be-28c2-48da-ac89-e919e11396e1');\n",
              "          const dataTable =\n",
              "            await google.colab.kernel.invokeFunction('convertToInteractive',\n",
              "                                                     [key], {});\n",
              "          if (!dataTable) return;\n",
              "\n",
              "          const docLinkHtml = 'Like what you see? Visit the ' +\n",
              "            '<a target=\"_blank\" href=https://colab.research.google.com/notebooks/data_table.ipynb>data table notebook</a>'\n",
              "            + ' to learn more about interactive tables.';\n",
              "          element.innerHTML = '';\n",
              "          dataTable['output_type'] = 'display_data';\n",
              "          await google.colab.output.renderOutput(dataTable, element);\n",
              "          const docLink = document.createElement('div');\n",
              "          docLink.innerHTML = docLinkHtml;\n",
              "          element.appendChild(docLink);\n",
              "        }\n",
              "      </script>\n",
              "    </div>\n",
              "  </div>\n",
              "  "
            ]
          },
          "metadata": {},
          "execution_count": 17
        }
      ]
    },
    {
      "cell_type": "markdown",
      "source": [
        "*Create Cleaned Dataset for Predictions Data*"
      ],
      "metadata": {
        "id": "-iN4xnyhYgsC"
      }
    },
    {
      "cell_type": "code",
      "source": [
        "test_clean_index = np.array(test_clean.index)\n",
        "len(test_clean_index)\n",
        "preds_clean = pred.loc[test_clean_index, :]"
      ],
      "metadata": {
        "id": "-_xAP9UYVjCy"
      },
      "execution_count": null,
      "outputs": []
    },
    {
      "cell_type": "markdown",
      "source": [
        "*Binary Classification for Toxicity*"
      ],
      "metadata": {
        "id": "8tSAvgdhYpcl"
      }
    },
    {
      "cell_type": "code",
      "source": [
        "\n",
        "preds_clean.loc[preds_clean['prediction'] <= 0.5, 'prediction'] = 0\n",
        "preds_clean.loc[preds_clean['prediction'] > 0.5, 'prediction'] = 1\n",
        "\n",
        "test_clean.loc[test_clean['toxicity'] <= 0.5, 'toxicity'] = 0\n",
        "test_clean.loc[test_clean['toxicity'] > 0.5, 'toxicity'] = 1"
      ],
      "metadata": {
        "colab": {
          "base_uri": "https://localhost:8080/"
        },
        "id": "Cb0sTlMMVdWH",
        "outputId": "58298a10-c59f-499a-86de-5cb246893533"
      },
      "execution_count": null,
      "outputs": [
        {
          "output_type": "stream",
          "name": "stderr",
          "text": [
            "/usr/local/lib/python3.7/dist-packages/pandas/core/indexing.py:1817: SettingWithCopyWarning: \n",
            "A value is trying to be set on a copy of a slice from a DataFrame.\n",
            "Try using .loc[row_indexer,col_indexer] = value instead\n",
            "\n",
            "See the caveats in the documentation: https://pandas.pydata.org/pandas-docs/stable/user_guide/indexing.html#returning-a-view-versus-a-copy\n",
            "  self._setitem_single_column(loc, value, pi)\n"
          ]
        }
      ]
    },
    {
      "cell_type": "markdown",
      "source": [
        "*DataFrame Manipulation to join features*"
      ],
      "metadata": {
        "id": "Ittnlv3-YvZA"
      }
    },
    {
      "cell_type": "code",
      "source": [
        "final_df = pd.DataFrame(test_clean[['id','comment_text','male','female','homosexual_gay_or_lesbian','white','black']])\n",
        "temp = pd.DataFrame(preds_clean['prediction'])\n",
        "temp3 = pd.DataFrame(test_clean['toxicity'])\n",
        "temp2 = pd.DataFrame(ads_test['comment_text_preprocessed'])\n",
        "final_df = final_df.join(temp)\n",
        "final_df = final_df.join(temp3)\n",
        "final_df = final_df.join(temp2)\n",
        "final_df.head()"
      ],
      "metadata": {
        "colab": {
          "base_uri": "https://localhost:8080/",
          "height": 531
        },
        "id": "iwS_5-w0VtiS",
        "outputId": "1abbd468-8270-4f76-b4b6-9be2b8d4ad29"
      },
      "execution_count": null,
      "outputs": [
        {
          "output_type": "execute_result",
          "data": {
            "text/plain": [
              "         id                                       comment_text  male  female  \\\n",
              "1   7097321  This is malfeasance by the Administrator and t...   0.0     0.0   \n",
              "2   7097322  @Rmiller101 - Spoken like a true elitist. But ...   0.0     0.0   \n",
              "15  7097335  IT IS DOA! As Collins announced her intentions...   0.0     0.0   \n",
              "21  7097341  It's a black mark on the previous administrati...   0.0     0.0   \n",
              "37  7097357  Don’t get it do you. As the price of things go...   0.0     0.0   \n",
              "\n",
              "    homosexual_gay_or_lesbian  white  black  prediction  toxicity  \\\n",
              "1                         0.0    0.0    0.0         0.0       0.0   \n",
              "2                         0.0    0.0    0.0         0.0       0.0   \n",
              "15                        0.0    0.0    0.0         0.0       0.0   \n",
              "21                        0.0    0.0    0.5         0.0       0.0   \n",
              "37                        0.0    0.0    0.0         0.0       0.0   \n",
              "\n",
              "                            comment_text_preprocessed  \n",
              "1     (0, 4197)\\t0.11110084003103093\\n  (0, 41610)...  \n",
              "2     (0, 54019)\\t0.34424830845672777\\n  (0, 86895...  \n",
              "15    (0, 50296)\\t0.06078852776701302\\n  (0, 48551...  \n",
              "21    (0, 47921)\\t0.151974215194401\\n  (0, 56223)\\...  \n",
              "37    (0, 4768)\\t0.05760673476823981\\n  (0, 42934)...  "
            ],
            "text/html": [
              "\n",
              "  <div id=\"df-11497608-f2ec-4011-90a1-8d730c848be8\">\n",
              "    <div class=\"colab-df-container\">\n",
              "      <div>\n",
              "<style scoped>\n",
              "    .dataframe tbody tr th:only-of-type {\n",
              "        vertical-align: middle;\n",
              "    }\n",
              "\n",
              "    .dataframe tbody tr th {\n",
              "        vertical-align: top;\n",
              "    }\n",
              "\n",
              "    .dataframe thead th {\n",
              "        text-align: right;\n",
              "    }\n",
              "</style>\n",
              "<table border=\"1\" class=\"dataframe\">\n",
              "  <thead>\n",
              "    <tr style=\"text-align: right;\">\n",
              "      <th></th>\n",
              "      <th>id</th>\n",
              "      <th>comment_text</th>\n",
              "      <th>male</th>\n",
              "      <th>female</th>\n",
              "      <th>homosexual_gay_or_lesbian</th>\n",
              "      <th>white</th>\n",
              "      <th>black</th>\n",
              "      <th>prediction</th>\n",
              "      <th>toxicity</th>\n",
              "      <th>comment_text_preprocessed</th>\n",
              "    </tr>\n",
              "  </thead>\n",
              "  <tbody>\n",
              "    <tr>\n",
              "      <th>1</th>\n",
              "      <td>7097321</td>\n",
              "      <td>This is malfeasance by the Administrator and t...</td>\n",
              "      <td>0.0</td>\n",
              "      <td>0.0</td>\n",
              "      <td>0.0</td>\n",
              "      <td>0.0</td>\n",
              "      <td>0.0</td>\n",
              "      <td>0.0</td>\n",
              "      <td>0.0</td>\n",
              "      <td>(0, 4197)\\t0.11110084003103093\\n  (0, 41610)...</td>\n",
              "    </tr>\n",
              "    <tr>\n",
              "      <th>2</th>\n",
              "      <td>7097322</td>\n",
              "      <td>@Rmiller101 - Spoken like a true elitist. But ...</td>\n",
              "      <td>0.0</td>\n",
              "      <td>0.0</td>\n",
              "      <td>0.0</td>\n",
              "      <td>0.0</td>\n",
              "      <td>0.0</td>\n",
              "      <td>0.0</td>\n",
              "      <td>0.0</td>\n",
              "      <td>(0, 54019)\\t0.34424830845672777\\n  (0, 86895...</td>\n",
              "    </tr>\n",
              "    <tr>\n",
              "      <th>15</th>\n",
              "      <td>7097335</td>\n",
              "      <td>IT IS DOA! As Collins announced her intentions...</td>\n",
              "      <td>0.0</td>\n",
              "      <td>0.0</td>\n",
              "      <td>0.0</td>\n",
              "      <td>0.0</td>\n",
              "      <td>0.0</td>\n",
              "      <td>0.0</td>\n",
              "      <td>0.0</td>\n",
              "      <td>(0, 50296)\\t0.06078852776701302\\n  (0, 48551...</td>\n",
              "    </tr>\n",
              "    <tr>\n",
              "      <th>21</th>\n",
              "      <td>7097341</td>\n",
              "      <td>It's a black mark on the previous administrati...</td>\n",
              "      <td>0.0</td>\n",
              "      <td>0.0</td>\n",
              "      <td>0.0</td>\n",
              "      <td>0.0</td>\n",
              "      <td>0.5</td>\n",
              "      <td>0.0</td>\n",
              "      <td>0.0</td>\n",
              "      <td>(0, 47921)\\t0.151974215194401\\n  (0, 56223)\\...</td>\n",
              "    </tr>\n",
              "    <tr>\n",
              "      <th>37</th>\n",
              "      <td>7097357</td>\n",
              "      <td>Don’t get it do you. As the price of things go...</td>\n",
              "      <td>0.0</td>\n",
              "      <td>0.0</td>\n",
              "      <td>0.0</td>\n",
              "      <td>0.0</td>\n",
              "      <td>0.0</td>\n",
              "      <td>0.0</td>\n",
              "      <td>0.0</td>\n",
              "      <td>(0, 4768)\\t0.05760673476823981\\n  (0, 42934)...</td>\n",
              "    </tr>\n",
              "  </tbody>\n",
              "</table>\n",
              "</div>\n",
              "      <button class=\"colab-df-convert\" onclick=\"convertToInteractive('df-11497608-f2ec-4011-90a1-8d730c848be8')\"\n",
              "              title=\"Convert this dataframe to an interactive table.\"\n",
              "              style=\"display:none;\">\n",
              "        \n",
              "  <svg xmlns=\"http://www.w3.org/2000/svg\" height=\"24px\"viewBox=\"0 0 24 24\"\n",
              "       width=\"24px\">\n",
              "    <path d=\"M0 0h24v24H0V0z\" fill=\"none\"/>\n",
              "    <path d=\"M18.56 5.44l.94 2.06.94-2.06 2.06-.94-2.06-.94-.94-2.06-.94 2.06-2.06.94zm-11 1L8.5 8.5l.94-2.06 2.06-.94-2.06-.94L8.5 2.5l-.94 2.06-2.06.94zm10 10l.94 2.06.94-2.06 2.06-.94-2.06-.94-.94-2.06-.94 2.06-2.06.94z\"/><path d=\"M17.41 7.96l-1.37-1.37c-.4-.4-.92-.59-1.43-.59-.52 0-1.04.2-1.43.59L10.3 9.45l-7.72 7.72c-.78.78-.78 2.05 0 2.83L4 21.41c.39.39.9.59 1.41.59.51 0 1.02-.2 1.41-.59l7.78-7.78 2.81-2.81c.8-.78.8-2.07 0-2.86zM5.41 20L4 18.59l7.72-7.72 1.47 1.35L5.41 20z\"/>\n",
              "  </svg>\n",
              "      </button>\n",
              "      \n",
              "  <style>\n",
              "    .colab-df-container {\n",
              "      display:flex;\n",
              "      flex-wrap:wrap;\n",
              "      gap: 12px;\n",
              "    }\n",
              "\n",
              "    .colab-df-convert {\n",
              "      background-color: #E8F0FE;\n",
              "      border: none;\n",
              "      border-radius: 50%;\n",
              "      cursor: pointer;\n",
              "      display: none;\n",
              "      fill: #1967D2;\n",
              "      height: 32px;\n",
              "      padding: 0 0 0 0;\n",
              "      width: 32px;\n",
              "    }\n",
              "\n",
              "    .colab-df-convert:hover {\n",
              "      background-color: #E2EBFA;\n",
              "      box-shadow: 0px 1px 2px rgba(60, 64, 67, 0.3), 0px 1px 3px 1px rgba(60, 64, 67, 0.15);\n",
              "      fill: #174EA6;\n",
              "    }\n",
              "\n",
              "    [theme=dark] .colab-df-convert {\n",
              "      background-color: #3B4455;\n",
              "      fill: #D2E3FC;\n",
              "    }\n",
              "\n",
              "    [theme=dark] .colab-df-convert:hover {\n",
              "      background-color: #434B5C;\n",
              "      box-shadow: 0px 1px 3px 1px rgba(0, 0, 0, 0.15);\n",
              "      filter: drop-shadow(0px 1px 2px rgba(0, 0, 0, 0.3));\n",
              "      fill: #FFFFFF;\n",
              "    }\n",
              "  </style>\n",
              "\n",
              "      <script>\n",
              "        const buttonEl =\n",
              "          document.querySelector('#df-11497608-f2ec-4011-90a1-8d730c848be8 button.colab-df-convert');\n",
              "        buttonEl.style.display =\n",
              "          google.colab.kernel.accessAllowed ? 'block' : 'none';\n",
              "\n",
              "        async function convertToInteractive(key) {\n",
              "          const element = document.querySelector('#df-11497608-f2ec-4011-90a1-8d730c848be8');\n",
              "          const dataTable =\n",
              "            await google.colab.kernel.invokeFunction('convertToInteractive',\n",
              "                                                     [key], {});\n",
              "          if (!dataTable) return;\n",
              "\n",
              "          const docLinkHtml = 'Like what you see? Visit the ' +\n",
              "            '<a target=\"_blank\" href=https://colab.research.google.com/notebooks/data_table.ipynb>data table notebook</a>'\n",
              "            + ' to learn more about interactive tables.';\n",
              "          element.innerHTML = '';\n",
              "          dataTable['output_type'] = 'display_data';\n",
              "          await google.colab.output.renderOutput(dataTable, element);\n",
              "          const docLink = document.createElement('div');\n",
              "          docLink.innerHTML = docLinkHtml;\n",
              "          element.appendChild(docLink);\n",
              "        }\n",
              "      </script>\n",
              "    </div>\n",
              "  </div>\n",
              "  "
            ]
          },
          "metadata": {},
          "execution_count": 47
        }
      ]
    },
    {
      "cell_type": "code",
      "source": [
        "\n",
        "# get the overall performance metrics of the classifer\n",
        "print(\"accuracy:\", metrics.accuracy_score(final_df['prediction'], final_df['toxicity']))\n",
        "print(\"AUC:\", metrics.roc_auc_score(final_df['prediction'], final_df['toxicity']))\n",
        "print('precision:', metrics.precision_score(final_df['prediction'], final_df['toxicity']))\n",
        "print('recall:', metrics.recall_score(final_df['prediction'], final_df['toxicity']))\n",
        "print('average_precision:', metrics.average_precision_score(final_df['prediction'], final_df['toxicity']))"
      ],
      "metadata": {
        "colab": {
          "base_uri": "https://localhost:8080/"
        },
        "id": "9z3VWSUXV0Pr",
        "outputId": "7626285d-fa69-4647-c79b-2fd94e8a5fb8"
      },
      "execution_count": null,
      "outputs": [
        {
          "output_type": "stream",
          "name": "stdout",
          "text": [
            "accuracy: 0.943782731612365\n",
            "AUC: 0.817189738265141\n",
            "precision: 0.5771694816540478\n",
            "recall: 0.6705006765899865\n",
            "average_precision: 0.40956285747367266\n"
          ]
        }
      ]
    },
    {
      "cell_type": "code",
      "source": [
        "cf_matrix = metrics.confusion_matrix(final_df['prediction'], final_df['toxicity'],normalize='true')\n",
        "cf_matrix = pd.DataFrame(cf_matrix)\n",
        "tp = .96\n",
        "fp = .036\n",
        "fn = 0.33\n",
        "tn = 0.67\n",
        "overall_fpr = fp/(tp+fn)\n",
        "overall_tpr = tp/(tp+fn)\n",
        "overall_fnr = fn/(fn+tp)\n",
        "overall_tnr = tn/(tn+fp)\n",
        "print('overall false postive rate',overall_fpr)\n",
        "print('overall true postive rate',overall_tpr)\n",
        "print('overall false negative rate',overall_fnr)\n",
        "print('overall true negative rate',overall_tnr)\n",
        "sns.heatmap(cf_matrix, annot = True)\n"
      ],
      "metadata": {
        "colab": {
          "base_uri": "https://localhost:8080/",
          "height": 352
        },
        "id": "i8XR1Oa8V4eG",
        "outputId": "f6a79d69-6d00-4d9c-89d0-4677b138d91d"
      },
      "execution_count": null,
      "outputs": [
        {
          "output_type": "stream",
          "name": "stdout",
          "text": [
            "overall false postive rate 0.027906976744186043\n",
            "overall true postive rate 0.7441860465116279\n",
            "overall false negative rate 0.2558139534883721\n",
            "overall true negative rate 0.9490084985835694\n"
          ]
        },
        {
          "output_type": "execute_result",
          "data": {
            "text/plain": [
              "<matplotlib.axes._subplots.AxesSubplot at 0x7f2a175f1290>"
            ]
          },
          "metadata": {},
          "execution_count": 75
        },
        {
          "output_type": "display_data",
          "data": {
            "text/plain": [
              "<Figure size 432x288 with 2 Axes>"
            ],
            "image/png": "[encoded data removed]"
          },
          "metadata": {
            "needs_background": "light"
          }
        }
      ]
    },
    {
      "cell_type": "markdown",
      "source": [
        "# Sex"
      ],
      "metadata": {
        "id": "ee7rfipDWPtf"
      }
    },
    {
      "cell_type": "markdown",
      "source": [
        "*Here we will calculate FPR, FNR, and Accuracy for males and females*"
      ],
      "metadata": {
        "id": "VjcyhHqLZ77d"
      }
    },
    {
      "cell_type": "code",
      "source": [
        "final_df[\"male\"].mean()\n",
        "\n",
        "mask = final_df[\"male\"] > 0.1\n",
        "\n",
        "print(pd.crosstab(final_df.loc[mask, \"toxicity\"],\n",
        "                  final_df.loc[mask, \"prediction\"]))\n",
        "print(\"Privileged group (male)\",'\\n')\n",
        "\n",
        "tp = 22\n",
        "fp = 249\n",
        "tn = 2889\n",
        "fn = 341\n",
        "\n",
        "pred_fav_male = tn+fn\n",
        "total_male = tp + fp + tn + fn \n",
        "\n",
        "fpr_male = fp / (fp + tn) * 100\n",
        "fnr_male = fn / (fn + tp) * 100\n",
        "\n",
        "print(\"False positive rate\", fpr_male)\n",
        "print(\"False negative rate\", fnr_male)\n",
        "acc_male = (tp+tn)/total_male\n",
        "print(\"Accuracy\",acc_male)"
      ],
      "metadata": {
        "colab": {
          "base_uri": "https://localhost:8080/"
        },
        "id": "jihHkTAwV6ey",
        "outputId": "fd98c024-4669-40d7-f908-2360d262dbc0"
      },
      "execution_count": null,
      "outputs": [
        {
          "output_type": "stream",
          "name": "stdout",
          "text": [
            "prediction   0.0  1.0\n",
            "toxicity             \n",
            "0.0         3025  123\n",
            "1.0          147  216\n",
            "Privileged group (male) \n",
            "\n",
            "False positive rate 7.934990439770555\n",
            "False negative rate 93.93939393939394\n",
            "Accuracy 0.8314767209368752\n"
          ]
        }
      ]
    },
    {
      "cell_type": "code",
      "source": [
        "mask = final_df[\"female\"] > .1\n",
        "\n",
        "print(pd.crosstab(final_df.loc[mask, \"toxicity\"],\n",
        "                  final_df.loc[mask, \"prediction\"]))\n",
        "print(\"Unprivileged group (female)\",'\\n')\n",
        "\n",
        "tp = 24\n",
        "fp = 250\n",
        "tn = 2877\n",
        "fn = 303\n",
        "\n",
        "pred_fav_female = tn+fn\n",
        "total_female = tp + fp + tn + fn \n",
        "\n",
        "fpr_female = fp / (fp + tn) * 100\n",
        "fnr_female = fn / (fn + tp) * 100\n",
        "\n",
        "print(\"False positive rate\", fpr_female)\n",
        "print(\"False negative rate\", fnr_female)\n",
        "acc_female = (tp+tn)/total_female\n",
        "print(\"Accuracy\",acc_female)"
      ],
      "metadata": {
        "colab": {
          "base_uri": "https://localhost:8080/"
        },
        "id": "Qd0U_UeIWUaZ",
        "outputId": "63424799-4b74-48d6-80d1-0c313296affd"
      },
      "execution_count": null,
      "outputs": [
        {
          "output_type": "stream",
          "name": "stdout",
          "text": [
            "prediction   0.0  1.0\n",
            "toxicity             \n",
            "0.0         3036   91\n",
            "1.0          134  193\n",
            "Unprivileged group (female) \n",
            "\n",
            "False positive rate 7.99488327470419\n",
            "False negative rate 92.66055045871559\n",
            "Accuracy 0.8398957730167921\n"
          ]
        }
      ]
    },
    {
      "cell_type": "markdown",
      "source": [
        "In this case the favorable results (male) is not toxic. "
      ],
      "metadata": {
        "id": "neK3tmQiWZdI"
      }
    },
    {
      "cell_type": "code",
      "source": [
        "priv_favorable = (pred_fav_male/total_male)*100\n",
        "unpriv_favorable = (pred_fav_female/total_female)*100\n",
        "\n",
        "print(\"Mean Outcomes-Gender:\",unpriv_favorable-priv_favorable)"
      ],
      "metadata": {
        "colab": {
          "base_uri": "https://localhost:8080/"
        },
        "id": "ajxgVW_0WZBy",
        "outputId": "87778d80-b0b7-49a0-9fb0-9f078b4a3375"
      },
      "execution_count": null,
      "outputs": [
        {
          "output_type": "stream",
          "name": "stdout",
          "text": [
            "Mean Outcomes-Gender: -0.19218596986186753\n"
          ]
        }
      ]
    },
    {
      "cell_type": "markdown",
      "source": [
        "## Disparate Impact (DI)"
      ],
      "metadata": {
        "id": "xEBE48wuWlqy"
      }
    },
    {
      "cell_type": "code",
      "source": [
        "gender_di = pred_fav_female/pred_fav_male\n",
        "print('Disparate Impact - Males/Females:', gender_di)"
      ],
      "metadata": {
        "colab": {
          "base_uri": "https://localhost:8080/"
        },
        "id": "5KTI1EkvWlEK",
        "outputId": "cb9d04a8-175c-46ca-b205-56f13a003e2c"
      },
      "execution_count": null,
      "outputs": [
        {
          "output_type": "stream",
          "name": "stdout",
          "text": [
            "Disparate Impact - Males/Females: 0.9845201238390093\n"
          ]
        }
      ]
    },
    {
      "cell_type": "markdown",
      "source": [
        "## Equalized Odds between protected (male) and unprotected (female) groups. These should have the same TP and FP rates"
      ],
      "metadata": {
        "id": "snyIeYgsWt_P"
      }
    },
    {
      "cell_type": "code",
      "source": [
        "print(\"Unprivileged Group:FEMALE\")\n",
        "print(\"False positive rate\", fpr_female)\n",
        "print(\"False negative rate\", fnr_female)\n",
        "\n",
        "print('\\n',\"Privileged group:MALE\")\n",
        "print(\"False positive rate\", fpr_male)\n",
        "print(\"False negative rate\", fnr_male)\n",
        "\n",
        "print('\\n',\"FPR Difference\", fpr_female-fpr_male)\n",
        "print(\"FNR Difference\", fnr_female-fnr_male)"
      ],
      "metadata": {
        "colab": {
          "base_uri": "https://localhost:8080/"
        },
        "id": "UMmstj-uWqhw",
        "outputId": "b24056a6-c62c-40d9-ce32-d8381610e017"
      },
      "execution_count": null,
      "outputs": [
        {
          "output_type": "stream",
          "name": "stdout",
          "text": [
            "Unprivileged Group:FEMALE\n",
            "False positive rate 7.99488327470419\n",
            "False negative rate 92.66055045871559\n",
            "\n",
            " Privileged group:MALE\n",
            "False positive rate 7.934990439770555\n",
            "False negative rate 93.93939393939394\n",
            "\n",
            " FPR Difference 0.05989283493363473\n",
            "FNR Difference -1.278843480678347\n"
          ]
        }
      ]
    },
    {
      "cell_type": "markdown",
      "source": [
        "# Race"
      ],
      "metadata": {
        "id": "sD0F_DL-W_0k"
      }
    },
    {
      "cell_type": "markdown",
      "source": [
        "Here we will calculate FPR, FNR, and Accuracy for black and white individuals"
      ],
      "metadata": {
        "id": "EgG8OupVXBNV"
      }
    },
    {
      "cell_type": "markdown",
      "source": [
        "*Black*"
      ],
      "metadata": {
        "id": "3xfjFAKWXRDD"
      }
    },
    {
      "cell_type": "code",
      "source": [
        "final_df[\"black\"].mean()\n",
        "\n",
        "mask = final_df[\"black\"] > 0.03\n",
        "\n",
        "print(pd.crosstab(final_df.loc[mask, \"toxicity\"],\n",
        "                  final_df.loc[mask, \"prediction\"]))\n",
        "print(\"Unprivileged group (black)\",'\\n')\n",
        "\n",
        "tp = 8\n",
        "fp = 51\n",
        "tn = 744\n",
        "fn = 186\n",
        "\n",
        "pred_fav_black= tn+fn\n",
        "total_black = tp + fp + tn + fn\n",
        "\n",
        "fpr_black = fp / (fp + tn) * 100\n",
        "fnr_black = fn / (fn + tp) * 100\n",
        "\n",
        "print(\"False positive rate\", fpr_black)\n",
        "print(\"False negative rate\", fnr_black)\n",
        "acc_black = (tp+tn)/total_black\n",
        "print(\"Accuracy\",acc_black)"
      ],
      "metadata": {
        "colab": {
          "base_uri": "https://localhost:8080/"
        },
        "id": "YZcHhU3YW-Hh",
        "outputId": "86d4166a-249c-4020-84cb-dc1e068aad84"
      },
      "execution_count": null,
      "outputs": [
        {
          "output_type": "stream",
          "name": "stdout",
          "text": [
            "prediction  0.0  1.0\n",
            "toxicity            \n",
            "0.0         723   72\n",
            "1.0          94  100\n",
            "Unprivileged group (black) \n",
            "\n",
            "False positive rate 6.415094339622642\n",
            "False negative rate 95.87628865979381\n",
            "Accuracy 0.7603640040444893\n"
          ]
        }
      ]
    },
    {
      "cell_type": "markdown",
      "source": [
        "*White*"
      ],
      "metadata": {
        "id": "Lr0mrnHpXUay"
      }
    },
    {
      "cell_type": "code",
      "source": [
        "final_df[\"white\"].mean()\n",
        "\n",
        "mask = final_df[\"white\"] > 0.05\n",
        "\n",
        "print(pd.crosstab(final_df.loc[mask, \"toxicity\"],\n",
        "                  final_df.loc[mask, \"prediction\"]))\n",
        "print(\"privileged group (white)\",'\\n')\n",
        "\n",
        "tp = 18\n",
        "fp = 98\n",
        "tn = 1065\n",
        "fn = 246\n",
        "\n",
        "pred_fav_white= tn+fn\n",
        "total_white = tp + fp + tn + fn\n",
        "\n",
        "fpr_white = fp / (fp + tn) * 100\n",
        "fnr_white = fn / (fn + tp) * 100\n",
        "\n",
        "print(\"False positive rate\", fpr_white)\n",
        "print(\"False negative rate\", fnr_white)\n",
        "acc_white = (tp+tn)/total_white\n",
        "print(\"Accuracy\",acc_white)"
      ],
      "metadata": {
        "colab": {
          "base_uri": "https://localhost:8080/"
        },
        "id": "p2uiq7QeXVKx",
        "outputId": "9f37b2b5-fb45-4d6f-fde9-3efafe471927"
      },
      "execution_count": null,
      "outputs": [
        {
          "output_type": "stream",
          "name": "stdout",
          "text": [
            "prediction   0.0  1.0\n",
            "toxicity             \n",
            "0.0         1042  121\n",
            "1.0          120  144\n",
            "privileged group (white) \n",
            "\n",
            "False positive rate 8.426483233018056\n",
            "False negative rate 93.18181818181817\n",
            "Accuracy 0.7589348283111422\n"
          ]
        }
      ]
    },
    {
      "cell_type": "markdown",
      "source": [
        "*Mean Outcomes*"
      ],
      "metadata": {
        "id": "E1oueZGWXevW"
      }
    },
    {
      "cell_type": "code",
      "source": [
        "unpriv_favorable = (pred_fav_black/total_black)*100\n",
        "privileged_favorable = (pred_fav_white/total_white)*100\n",
        "\n",
        "print(\"Mean Outcomes - Race:\",unpriv_favorable-privileged_favorable)"
      ],
      "metadata": {
        "colab": {
          "base_uri": "https://localhost:8080/"
        },
        "id": "ndlbg0wiXa-a",
        "outputId": "52b36162-3ed2-4a5e-db27-4c3d74a30850"
      },
      "execution_count": null,
      "outputs": [
        {
          "output_type": "stream",
          "name": "stdout",
          "text": [
            "Mean Outcomes - Race: 2.163319995776945\n"
          ]
        }
      ]
    },
    {
      "cell_type": "markdown",
      "source": [
        "*Disparate Impact*"
      ],
      "metadata": {
        "id": "yF54ynxVXk81"
      }
    },
    {
      "cell_type": "code",
      "source": [
        "race_di = pred_fav_black/pred_fav_white\n",
        "print('disparate impact:', race_di)"
      ],
      "metadata": {
        "colab": {
          "base_uri": "https://localhost:8080/"
        },
        "id": "VI4qdYrUXjfA",
        "outputId": "c9bb9c72-2e00-4f5b-c9a0-f1a2a3435ca1"
      },
      "execution_count": null,
      "outputs": [
        {
          "output_type": "stream",
          "name": "stdout",
          "text": [
            "disparate impact: 0.7093821510297483\n"
          ]
        }
      ]
    },
    {
      "cell_type": "markdown",
      "source": [
        "*Equalized Odds*"
      ],
      "metadata": {
        "id": "KIxl1134aTUH"
      }
    },
    {
      "cell_type": "code",
      "source": [
        "print(\"Unprivileged group: BLACK\")\n",
        "print(\"False positive rate\", fpr_black)\n",
        "print(\"False negative rate\", fnr_black)\n",
        "\n",
        "print('\\n',\"Privileged group: WHITE\")\n",
        "print(\"False positive rate\", fpr_white)\n",
        "print(\"False negative rate\", fnr_white)\n",
        "\n",
        "print('\\n',\"FPR Difference\", fpr_black-fpr_white)\n",
        "print(\"FNR Difference\", fnr_black-fnr_white)"
      ],
      "metadata": {
        "colab": {
          "base_uri": "https://localhost:8080/"
        },
        "id": "BGI30BPwXpkS",
        "outputId": "476aa4e6-8be6-40cb-cfa4-82f57a9b5a5c"
      },
      "execution_count": null,
      "outputs": [
        {
          "output_type": "stream",
          "name": "stdout",
          "text": [
            "Unprivileged group: BLACK\n",
            "False positive rate 6.415094339622642\n",
            "False negative rate 95.87628865979381\n",
            "\n",
            " Privileged group: WHITE\n",
            "False positive rate 8.426483233018056\n",
            "False negative rate 93.18181818181817\n",
            "\n",
            " FPR Difference -2.011388893395414\n",
            "FNR Difference 2.694470477975642\n"
          ]
        }
      ]
    },
    {
      "cell_type": "markdown",
      "source": [
        "# Sexual Orientation"
      ],
      "metadata": {
        "id": "TCh43RVWXuSI"
      }
    },
    {
      "cell_type": "markdown",
      "source": [
        "FPR, FNR, and Accuracy"
      ],
      "metadata": {
        "id": "J0Q5d03cXwQe"
      }
    },
    {
      "cell_type": "code",
      "source": [
        "final_df[\"homosexual_gay_or_lesbian\"].mean()\n",
        "\n",
        "mask = final_df[\"homosexual_gay_or_lesbian\"] > 0.02\n",
        "\n",
        "print(pd.crosstab(final_df.loc[mask, \"toxicity\"],\n",
        "                  final_df.loc[mask, \"prediction\"]))\n",
        "print(\"Unprivileged group ()\",'\\n')\n",
        "\n",
        "tp = 13\n",
        "fp = 60\n",
        "tn = 551\n",
        "fn = 104\n",
        "\n",
        "pred_fav_homo = tn+fn\n",
        "total_homo = tp + fp + tn + fn\n",
        "\n",
        "fpr_homo = fp / (fp + tn) * 100\n",
        "fnr_homo = fn / (fn + tp) * 100\n",
        "\n",
        "print(\"False positive rate\", fpr_homo)\n",
        "print(\"False negative rate\", fnr_homo)\n",
        "acc_homo = (tp+tn)/total_homo\n",
        "print(\"Accuracy\",acc_homo)"
      ],
      "metadata": {
        "colab": {
          "base_uri": "https://localhost:8080/"
        },
        "id": "AyiXSDQ3Xs5i",
        "outputId": "daf42211-fcf9-4bdb-b1f7-b60962702012"
      },
      "execution_count": null,
      "outputs": [
        {
          "output_type": "stream",
          "name": "stdout",
          "text": [
            "prediction  0.0  1.0\n",
            "toxicity            \n",
            "0.0         550   61\n",
            "1.0          65   52\n",
            "Unprivileged group () \n",
            "\n",
            "False positive rate 9.819967266775777\n",
            "False negative rate 88.88888888888889\n",
            "Accuracy 0.7747252747252747\n"
          ]
        }
      ]
    },
    {
      "cell_type": "code",
      "source": [
        "mask = final_df[\"homosexual_gay_or_lesbian\"] <= 0.02\n",
        "\n",
        "print(pd.crosstab(final_df.loc[mask, \"toxicity\"],\n",
        "                  final_df.loc[mask, \"prediction\"]))\n",
        "print(\"Privileged group ()\",'\\n')\n",
        "\n",
        "tp = 26\n",
        "fp = 1587\n",
        "tn = 17662\n",
        "fn = 1474\n",
        "\n",
        "pred_fav_nohomo = tn+fn\n",
        "total_nohomo = tp + fp + tn + fn\n",
        "\n",
        "fpr_nohomo = fp / (fp + tn) * 100\n",
        "fnr_nohomo = fn / (fn +tp ) * 100\n",
        "\n",
        "print(\"False positive rate\", fpr_nohomo)\n",
        "print(\"False negative rate\", fnr_nohomo)\n",
        "acc_nohomo = (tp+tn)/total_nohomo\n",
        "print(\"Accuracy\",acc_nohomo)"
      ],
      "metadata": {
        "colab": {
          "base_uri": "https://localhost:8080/"
        },
        "id": "k-GKwCTZX2vp",
        "outputId": "50620e25-d8b7-4893-af78-d55ca34c1f23"
      },
      "execution_count": null,
      "outputs": [
        {
          "output_type": "stream",
          "name": "stdout",
          "text": [
            "prediction    0.0  1.0\n",
            "toxicity              \n",
            "0.0         18823  426\n",
            "1.0           661  939\n",
            "Privileged group () \n",
            "\n",
            "False positive rate 8.244584134240739\n",
            "False negative rate 98.26666666666667\n",
            "Accuracy 0.8524748180635211\n"
          ]
        }
      ]
    },
    {
      "cell_type": "markdown",
      "source": [
        "*Mean Outcome for Sexual Orientation*"
      ],
      "metadata": {
        "id": "S4LoBdM3X5hk"
      }
    },
    {
      "cell_type": "code",
      "source": [
        "unpriv_favorable = (pred_fav_homo/total_homo)*100\n",
        "privileged_favorable = (pred_fav_nohomo/total_nohomo)*100\n",
        "\n",
        "print(\"Mean Outcomes (favorable=non toxic prediction):\",unpriv_favorable-privileged_favorable)"
      ],
      "metadata": {
        "colab": {
          "base_uri": "https://localhost:8080/"
        },
        "id": "cfrwlrufX4fJ",
        "outputId": "7cc05f9b-c1b1-456c-8977-b5d43952a461"
      },
      "execution_count": null,
      "outputs": [
        {
          "output_type": "stream",
          "name": "stdout",
          "text": [
            "Mean Outcomes (favorable=non toxic prediction): -2.253603907298057\n"
          ]
        }
      ]
    },
    {
      "cell_type": "markdown",
      "source": [
        "*Disparate Impact*"
      ],
      "metadata": {
        "id": "kG4oh-DFYA-_"
      }
    },
    {
      "cell_type": "code",
      "source": [
        "sexual_orientation_di = pred_fav_homo/pred_fav_nohomo\n",
        "print('disparate impact:', sexual_orientation_di)"
      ],
      "metadata": {
        "colab": {
          "base_uri": "https://localhost:8080/"
        },
        "id": "57HNreo0X-a1",
        "outputId": "ee32d05f-fd6a-4c2a-e28d-f34757681533"
      },
      "execution_count": null,
      "outputs": [
        {
          "output_type": "stream",
          "name": "stdout",
          "text": [
            "disparate impact: 0.03422867892976589\n"
          ]
        }
      ]
    },
    {
      "cell_type": "markdown",
      "source": [
        "*Equalized Odds*"
      ],
      "metadata": {
        "id": "ln_U-U5kabEA"
      }
    },
    {
      "cell_type": "code",
      "source": [
        "print(\"Unprivileged group: HOMOSEXUAL\")\n",
        "print(\"False positive rate\", fpr_homo)\n",
        "print(\"False negative rate\", fnr_homo)\n",
        "\n",
        "print('\\n',\"Privileged group: NON-HOMOSEXUAL\")\n",
        "print(\"False positive rate\", fpr_nohomo)\n",
        "print(\"False negative rate\", fnr_nohomo)\n",
        "\n",
        "print('\\n',\"FPR Difference\", fpr_homo-fpr_nohomo)\n",
        "print(\"FNR Difference\", fnr_homo-fnr_nohomo)"
      ],
      "metadata": {
        "colab": {
          "base_uri": "https://localhost:8080/"
        },
        "id": "708IY1iVYHBU",
        "outputId": "f03fb08d-f270-415f-a1c7-878a86fe83dc"
      },
      "execution_count": null,
      "outputs": [
        {
          "output_type": "stream",
          "name": "stdout",
          "text": [
            "Unprivileged group: HOMOSEXUAL\n",
            "False positive rate 9.819967266775777\n",
            "False negative rate 88.88888888888889\n",
            "\n",
            " Privileged group: NON-HOMOSEXUAL\n",
            "False positive rate 8.244584134240739\n",
            "False negative rate 98.26666666666667\n",
            "\n",
            " FPR Difference 1.5753831325350376\n",
            "FNR Difference -9.37777777777778\n"
          ]
        }
      ]
    },
    {
      "cell_type": "code",
      "source": [
        "male = [fpr_male, fnr_male, acc_male]\n",
        "female = [fpr_female, fnr_female, acc_female]\n",
        "black= [fpr_black, fnr_black, acc_black]\n",
        "white= [fpr_white, fnr_white, acc_white]\n",
        "homo = [fpr_homo, fnr_homo, acc_homo]\n",
        "nohomo = [fpr_nohomo, fnr_nohomo, acc_nohomo]"
      ],
      "metadata": {
        "id": "B64b6F-PYLa4"
      },
      "execution_count": null,
      "outputs": []
    },
    {
      "cell_type": "code",
      "source": [
        "x = np.arange(6)\n",
        "labels = ['Male', 'Female', 'Black', 'White', 'Homo', 'No-Homo']\n",
        "fpr = [male[0], female[0], black[0], white[0], homo[0], nohomo[0]]\n",
        "fnr = [male[1], female[1], black[1], white[1], homo[1], nohomo[1]]\n",
        "acc = [male[2], female[2], black[2], white[2], homo[2], nohomo[2]]\n",
        "width = 0.2\n",
        "\n",
        "\n",
        "plt.bar(x-.2, fpr, width, color = 'cyan')\n",
        "plt.bar(x, fnr, width, color = 'orange')\n",
        "plt.bar(x+.2, acc, width, color = 'green')\n",
        "plt.xticks(x, ['Male', 'Female', 'Black', 'White', 'Homo', 'No-Homo'])\n",
        "plt.xlabel(\"Identities\")\n",
        "plt.ylabel(\"Scores\")\n",
        "plt.legend([\"FPR\", \"FNR\", \"Accuracy\"])\n",
        "plt.title('FPR, FNR, & Accuracy Across Identities')\n",
        "plt.show()"
      ],
      "metadata": {
        "colab": {
          "base_uri": "https://localhost:8080/",
          "height": 295
        },
        "id": "__5s09qHd_c8",
        "outputId": "7003d6aa-b59d-4c9c-b4ba-893fb546ec2e"
      },
      "execution_count": null,
      "outputs": [
        {
          "output_type": "display_data",
          "data": {
            "text/plain": [
              "<Figure size 432x288 with 1 Axes>"
            ],
            "image/png": "[encoded data removed]"
          },
          "metadata": {
            "needs_background": "light"
          }
        }
      ]
    },
    {
      "cell_type": "code",
      "source": [
        ""
      ],
      "metadata": {
        "id": "lj6bODQbec48"
      },
      "execution_count": null,
      "outputs": []
    }
  ]
}